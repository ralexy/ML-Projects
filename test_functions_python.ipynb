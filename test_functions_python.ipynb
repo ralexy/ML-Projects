{
 "cells": [
  {
   "cell_type": "code",
   "execution_count": 3,
   "id": "865a3475",
   "metadata": {},
   "outputs": [],
   "source": [
    "def get_milk(money):\n",
    "    return money / 1.15"
   ]
  },
  {
   "cell_type": "code",
   "execution_count": 5,
   "id": "c2083509",
   "metadata": {},
   "outputs": [
    {
     "name": "stdout",
     "output_type": "stream",
     "text": [
      "17.826086956521742\n"
     ]
    }
   ],
   "source": [
    "print(get_milk(20.5))"
   ]
  },
  {
   "cell_type": "code",
   "execution_count": 39,
   "id": "0087a4ed",
   "metadata": {},
   "outputs": [
    {
     "name": "stdout",
     "output_type": "stream",
     "text": [
      "15.9826\n"
     ]
    }
   ],
   "source": [
    "def times(x, y):\n",
    "    if (isinstance(x, int) or isinstance(x, float)) and (isinstance(y, int) or isinstance(y, float)):\n",
    "        return x*y\n",
    "    else:\n",
    "        return False\n",
    "\n",
    "print(times(5.09,3.14))"
   ]
  },
  {
   "cell_type": "code",
   "execution_count": 40,
   "id": "3aba1ba8",
   "metadata": {},
   "outputs": [
    {
     "data": {
      "text/plain": [
       "False"
      ]
     },
     "execution_count": 40,
     "metadata": {},
     "output_type": "execute_result"
    }
   ],
   "source": [
    "times('lol', 3)"
   ]
  },
  {
   "cell_type": "code",
   "execution_count": 42,
   "id": "17f7ca3d",
   "metadata": {},
   "outputs": [
    {
     "data": {
      "text/plain": [
       "7.946068210127573"
      ]
     },
     "execution_count": 42,
     "metadata": {},
     "output_type": "execute_result"
    }
   ],
   "source": [
    "import math\n",
    "def square_root(x):\n",
    "    return math.sqrt(x)\n",
    "\n",
    "square_root(63.14)"
   ]
  },
  {
   "cell_type": "code",
   "execution_count": null,
   "id": "6c194e0d",
   "metadata": {},
   "outputs": [],
   "source": []
  }
 ],
 "metadata": {
  "kernelspec": {
   "display_name": "Python 3 (ipykernel)",
   "language": "python",
   "name": "python3"
  },
  "language_info": {
   "codemirror_mode": {
    "name": "ipython",
    "version": 3
   },
   "file_extension": ".py",
   "mimetype": "text/x-python",
   "name": "python",
   "nbconvert_exporter": "python",
   "pygments_lexer": "ipython3",
   "version": "3.10.9"
  }
 },
 "nbformat": 4,
 "nbformat_minor": 5
}
